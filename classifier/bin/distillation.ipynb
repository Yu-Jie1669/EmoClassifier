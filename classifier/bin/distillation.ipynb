{
 "cells": [
  {
   "cell_type": "code",
   "execution_count": 1,
   "outputs": [],
   "source": [
    "import textbrewer\n",
    "import torch\n",
    "from textbrewer import GeneralDistiller\n",
    "from textbrewer import TrainingConfig, DistillationConfig\n",
    "\n",
    "import argparse\n",
    "import datetime\n",
    "\n",
    "import torch\n",
    "from torch.optim.lr_scheduler import ReduceLROnPlateau\n",
    "from tqdm import tqdm\n",
    "from transformers import AdamW\n",
    "\n",
    "from classifier.data.dataset import LabeledDataset\n",
    "from torch.utils.data import DataLoader\n",
    "\n",
    "from classifier.model.classifier import Classifier\n",
    "from torch import device\n",
    "\n",
    "from classifier.model.classifier import Classifier\n",
    "\n",
    "\n",
    "def get_dataloader(hparams):\n",
    "    # labeled dataset\n",
    "    train_dataset = LabeledDataset(input_path=hparams['input'], pretrain=hparams['pretrain'],\n",
    "                                   max_len=hparams['max_len'])\n",
    "    dev_dataset = LabeledDataset(input_path=hparams['dev'], pretrain=hparams['pretrain'], max_len=hparams['max_len'])\n",
    "\n",
    "    vocab_size = train_dataset.get_vocab_size()\n",
    "\n",
    "    # to dataloader\n",
    "    # TODO 数据平衡？\n",
    "    train_loader = DataLoader(dataset=train_dataset, batch_size=hparams['batch_size'], shuffle=True)\n",
    "    dev_loader = DataLoader(dataset=dev_dataset, batch_size=hparams['batch_size'], shuffle=True)\n",
    "\n",
    "    return train_loader, dev_loader, vocab_size\n",
    "\n",
    "\n",
    "a = 1"
   ],
   "metadata": {
    "collapsed": false,
    "pycharm": {
     "name": "#%%\n"
    }
   }
  },
  {
   "cell_type": "code",
   "execution_count": 2,
   "metadata": {
    "pycharm": {
     "name": "#%%\n"
    }
   },
   "outputs": [],
   "source": [
    "hparams = Default_Hparams = {\n",
    "    \"batch_size\": 2,\n",
    "    \"input\": \"../../data/input/train.csv\",\n",
    "    \"dev\": \"../../data/input/dev.csv\",\n",
    "    \"output\": \"../../train/model.pkl\",\n",
    "    \"lr\": 1e-5,  # learning_rate\n",
    "    \"epoch\": 2,\n",
    "    'weight_decay': 0.01,\n",
    "    \"device\": 0,\n",
    "    \"max_len\": 256,\n",
    "    \"pretrain\": \"../../bert-base-chinese\",\n",
    "    \"mlm_train\": False,\n",
    "    \"smoothing\": 0.1,\n",
    "}\n"
   ]
  },
  {
   "cell_type": "code",
   "execution_count": 3,
   "metadata": {
    "pycharm": {
     "name": "#%%\n"
    }
   },
   "outputs": [
    {
     "name": "stderr",
     "output_type": "stream",
     "text": [
      "Some weights of the model checkpoint at ../../bert-base-chinese were not used when initializing BertModel: ['cls.predictions.transform.LayerNorm.weight', 'cls.predictions.bias', 'cls.predictions.transform.dense.bias', 'cls.predictions.transform.dense.weight', 'cls.seq_relationship.weight', 'cls.predictions.transform.LayerNorm.bias', 'cls.predictions.decoder.weight', 'cls.seq_relationship.bias']\n",
      "- This IS expected if you are initializing BertModel from the checkpoint of a model trained on another task or with another architecture (e.g. initializing a BertForSequenceClassification model from a BertForPreTraining model).\n",
      "- This IS NOT expected if you are initializing BertModel from the checkpoint of a model that you expect to be exactly identical (initializing a BertForSequenceClassification model from a BertForSequenceClassification model).\n"
     ]
    },
    {
     "name": "stdout",
     "output_type": "stream",
     "text": [
      "\n",
      "teacher_model's parametrers:\n",
      "\n",
      "LAYER NAME                    \t        #PARAMS\t     RATIO\t MEM(MB)\n",
      "--model:                      \t    102,270,467\t   100.00%\t  390.13\n",
      "  --bert:                     \t    102,268,160\t   100.00%\t  390.12\n",
      "    --embeddings:             \t     16,623,104\t    16.25%\t   63.41\n",
      "      --position_ids:         \t            512\t     0.00%\t    0.00\n",
      "      --word_embeddings:      \t     16,226,304\t    15.87%\t   61.90\n",
      "      --position_embeddings:  \t        393,216\t     0.38%\t    1.50\n",
      "      --token_type_embeddings:\t          1,536\t     0.00%\t    0.01\n",
      "      --LayerNorm:            \t          1,536\t     0.00%\t    0.01\n",
      "    --encoder                 \n",
      "      --layer:                \t     85,054,464\t    83.17%\t  324.46\n",
      "    --pooler                  \n",
      "      --dense:                \t        590,592\t     0.58%\t    2.25\n",
      "  --dense:                    \t          2,307\t     0.00%\t    0.01\n",
      "    --weight:                 \t          2,304\t     0.00%\t    0.01\n",
      "    --bias:                   \t              3\t     0.00%\t    0.00\n",
      "\n",
      "student_model's parametrers:\n",
      "\n",
      "LAYER NAME                    \t        #PARAMS\t     RATIO\t MEM(MB)\n",
      "--model:                      \t    102,270,467\t   100.00%\t  390.13\n",
      "  --bert:                     \t    102,268,160\t   100.00%\t  390.12\n",
      "    --embeddings:             \t     16,623,104\t    16.25%\t   63.41\n",
      "      --position_ids:         \t            512\t     0.00%\t    0.00\n",
      "      --word_embeddings:      \t     16,226,304\t    15.87%\t   61.90\n",
      "      --position_embeddings:  \t        393,216\t     0.38%\t    1.50\n",
      "      --token_type_embeddings:\t          1,536\t     0.00%\t    0.01\n",
      "      --LayerNorm:            \t          1,536\t     0.00%\t    0.01\n",
      "    --encoder                 \n",
      "      --layer:                \t     85,054,464\t    83.17%\t  324.46\n",
      "    --pooler                  \n",
      "      --dense:                \t        590,592\t     0.58%\t    2.25\n",
      "  --dense:                    \t          2,307\t     0.00%\t    0.01\n",
      "    --weight:                 \t          2,304\t     0.00%\t    0.01\n",
      "    --bias:                   \t              3\t     0.00%\t    0.00\n",
      "\n"
     ]
    }
   ],
   "source": [
    "device_index = 'cuda:' + str(hparams['device'])\n",
    "device = torch.device(device_index if torch.cuda.is_available() else 'cpu')\n",
    "\n",
    "train_loader, dev_loader, vocab_size = get_dataloader(hparams)\n",
    "\n",
    "teacher_model = torch.load(\"../../train/model-ls.pkl\", map_location=device)\n",
    "\n",
    "student_model = Classifier(hparams['pretrain'], mlm_train=hparams['mlm_train'], vocab_size=vocab_size,\n",
    "                           smoothing=hparams['smoothing'])\n",
    "\n",
    "teacher_model.to(device=device)\n",
    "student_model.to(device=device)\n",
    "\n",
    "print(\"\\nteacher_model's parametrers:\")\n",
    "result, _ = textbrewer.utils.display_parameters(teacher_model, max_level=3)\n",
    "print(result)\n",
    "\n",
    "print(\"student_model's parametrers:\")\n",
    "result, _ = textbrewer.utils.display_parameters(student_model, max_level=3)\n",
    "print(result)"
   ]
  },
  {
   "cell_type": "code",
   "execution_count": 4,
   "metadata": {
    "pycharm": {
     "name": "#%%\n"
    }
   },
   "outputs": [
    {
     "name": "stderr",
     "output_type": "stream",
     "text": [
      "D:\\Anaconda\\envs\\torch18py37\\lib\\site-packages\\transformers\\optimization.py:309: FutureWarning: This implementation of AdamW is deprecated and will be removed in a future version. Use the PyTorch implementation torch.optim.AdamW instead, or set `no_deprecation_warning=True` to disable this warning\n",
      "  FutureWarning,\n"
     ]
    }
   ],
   "source": [
    "param_optimizer = list(student_model.named_parameters())\n",
    "no_decay = ['bias', 'LayerNorm.bias', 'LayerNorm.weight']\n",
    "# 设置模型参数的权重衰减\n",
    "optimizer_grouped_parameters = [\n",
    "    {'params': [p for n, p in param_optimizer if not any(nd in n for nd in no_decay)],\n",
    "     'weight_decay': hparams['weight_decay']},\n",
    "    {'params': [p for n, p in param_optimizer if any(nd in n for nd in no_decay)], 'weight_decay': 0.0}\n",
    "]\n",
    "# 学习率的设置\n",
    "optimizer_params = {'lr': hparams['lr'], 'eps': 1e-6, 'correct_bias': False}\n",
    "# 使用AdamW 主流优化器\n",
    "optimizer = AdamW(optimizer_grouped_parameters, **optimizer_params)\n",
    "# 学习率调整器，检测准确率的状态，然后衰减学习率\n",
    "scheduler = ReduceLROnPlateau(optimizer, mode='max', factor=0.5, min_lr=1e-7, patience=5, verbose=True,\n",
    "                              threshold=0.0001, eps=1e-08)"
   ]
  },
  {
   "cell_type": "code",
   "execution_count": 5,
   "metadata": {
    "pycharm": {
     "name": "#%%\n"
    }
   },
   "outputs": [],
   "source": [
    "import torch.nn.functional as F\n",
    "\n",
    "\n",
    "#Define callback function\n",
    "def predict(model, eval_dataloader, device):\n",
    "    model.to(device)\n",
    "    model.eval()\n",
    "\n",
    "    predicts = []\n",
    "    predict_probs = []\n",
    "    with torch.no_grad():\n",
    "        correct = 0\n",
    "        total = 0\n",
    "        for step, (input_ids, token_type_ids, attention_mask, labels) in enumerate(eval_dataloader):\n",
    "            input_ids, token_type_ids, attention_mask, labels = input_ids.to(device), token_type_ids.to(\n",
    "                device), attention_mask.to(device), labels.to(device)\n",
    "\n",
    "            _, predict, output, _ = model(input_ids, token_type_ids, attention_mask, labels)\n",
    "\n",
    "            pre_numpy = predict.cpu().numpy().tolist()\n",
    "            predicts.extend(pre_numpy)\n",
    "            probs = F.softmax(output).detach().cpu().numpy().tolist()\n",
    "            predict_probs.extend(probs)\n",
    "\n",
    "            correct += (predict == labels).sum().item()\n",
    "            total += labels.size(0)\n",
    "            # print('now_predict_Accuracy : {} %'.format(100.0 * correct / total))\n",
    "            # print(probs)\n",
    "        res = correct / total\n",
    "        print('predict_Accuracy : {} %'.format(100 * res))\n",
    "\n",
    "\n",
    "from functools import partial\n",
    "\n",
    "callback_fun = partial(predict, eval_dataloader=dev_loader, device=device)  # fill other arguments"
   ]
  },
  {
   "cell_type": "code",
   "execution_count": 6,
   "outputs": [
    {
     "data": {
      "image/png": "[encoded data removed]",
      "text/plain": "<IPython.core.display.Image object>"
     },
     "execution_count": 6,
     "metadata": {},
     "output_type": "execute_result"
    }
   ],
   "source": [
    "from IPython.display import Image\n",
    "\n",
    "Image(\"./img/img.png\")"
   ],
   "metadata": {
    "collapsed": false,
    "pycharm": {
     "name": "#%%\n"
    }
   }
  },
  {
   "cell_type": "code",
   "execution_count": 7,
   "metadata": {
    "pycharm": {
     "name": "#%%\n"
    }
   },
   "outputs": [
    {
     "name": "stdout",
     "output_type": "stream",
     "text": [
      "train_config:\n",
      "gradient_accumulation_steps : 1\n",
      "ckpt_frequency : 1\n",
      "ckpt_epoch_frequency : 1\n",
      "ckpt_steps : 50\n",
      "log_dir : None\n",
      "output_dir : ../../distillation/\n",
      "device : cuda:0\n",
      "fp16 : False\n",
      "fp16_opt_level : O1\n",
      "data_parallel : False\n",
      "local_rank : -1\n",
      "\n",
      "distill_config:\n",
      "temperature : 8\n",
      "temperature_scheduler : None\n",
      "hard_label_weight : 0\n",
      "hard_label_weight_scheduler : None\n",
      "kd_loss_type : ce\n",
      "kd_loss_weight : 1\n",
      "kd_loss_weight_scheduler : None\n",
      "probability_shift : False\n",
      "intermediate_matches : [\n",
      "IntermediateMatch: layer_T : 0, layer_S : 0, feature : hidden, weight : 1, loss : hidden_mse, proj : None, \n",
      "IntermediateMatch: layer_T : 2, layer_S : 2, feature : hidden, weight : 1, loss : hidden_mse, proj : None, \n",
      "IntermediateMatch: layer_T : 4, layer_S : 4, feature : hidden, weight : 1, loss : hidden_mse, proj : None, \n",
      "IntermediateMatch: layer_T : 0, layer_S : 0, feature : attention, weight : 1, loss : hidden_mse, proj : None, \n",
      "IntermediateMatch: layer_T : 2, layer_S : 2, feature : attention, weight : 1, loss : hidden_mse, proj : None, \n",
      "IntermediateMatch: layer_T : 4, layer_S : 4, feature : attention, weight : 1, loss : hidden_mse, proj : None]\n",
      "is_caching_logits : False\n",
      "\n"
     ]
    }
   ],
   "source": [
    "\n",
    "\n",
    "\n",
    "# TODO num_steps should be passed to distiller.train()\n",
    "train_config = TrainingConfig(device=device, ckpt_steps=50, output_dir=\"../../distillation/\")\n",
    "distill_config = DistillationConfig(\n",
    "    temperature=8,\n",
    "    hard_label_weight=0,\n",
    "    kd_loss_type='ce',\n",
    "    probability_shift=False,\n",
    "    intermediate_matches=[\n",
    "        {'layer_T': 0, 'layer_S': 0, 'feature': 'hidden', 'loss': 'hidden_mse', 'weight': 1},\n",
    "        {'layer_T': 2, 'layer_S': 2, 'feature': 'hidden', 'loss': 'hidden_mse', 'weight': 1},\n",
    "        {'layer_T': 4, 'layer_S': 4, 'feature': 'hidden', 'loss': 'hidden_mse', 'weight': 1},\n",
    "\n",
    "        {'layer_T': 0, 'layer_S': 0, 'feature': 'attention', 'loss': 'hidden_mse', 'weight': 1},\n",
    "        {'layer_T': 2, 'layer_S': 2, 'feature': 'attention', 'loss': 'hidden_mse', 'weight': 1},\n",
    "        {'layer_T': 4, 'layer_S': 4, 'feature': 'attention', 'loss': 'hidden_mse', 'weight': 1}\n",
    "    ]\n",
    ")\n",
    "\n",
    "print(\"train_config:\")\n",
    "print(train_config)\n",
    "\n",
    "print(\"distill_config:\")\n",
    "print(distill_config)"
   ]
  },
  {
   "cell_type": "code",
   "execution_count": 14,
   "outputs": [
    {
     "ename": "KeyboardInterrupt",
     "evalue": "",
     "output_type": "error",
     "traceback": [
      "\u001B[1;31m---------------------------------------------------------------------------\u001B[0m",
      "\u001B[1;31mKeyboardInterrupt\u001B[0m                         Traceback (most recent call last)",
      "\u001B[1;32m~\\AppData\\Local\\Temp\\ipykernel_20256\\1212047637.py\u001B[0m in \u001B[0;36m<module>\u001B[1;34m\u001B[0m\n\u001B[0;32m     24\u001B[0m \u001B[1;32mwith\u001B[0m \u001B[0mdistiller\u001B[0m\u001B[1;33m:\u001B[0m\u001B[1;33m\u001B[0m\u001B[1;33m\u001B[0m\u001B[0m\n\u001B[0;32m     25\u001B[0m     distiller.train(optimizer, train_loader, num_steps=5000,\n\u001B[1;32m---> 26\u001B[1;33m                     scheduler_class=ReduceLROnPlateau, scheduler_args=scheduler_args, callback=callback_fun)\n\u001B[0m",
      "\u001B[1;32mD:\\Anaconda\\envs\\torch18py37\\lib\\site-packages\\textbrewer\\distiller_basic.py\u001B[0m in \u001B[0;36mtrain\u001B[1;34m(self, optimizer, dataloader, num_epochs, scheduler_class, scheduler_args, scheduler, max_grad_norm, num_steps, callback, batch_postprocessor, **args)\u001B[0m\n\u001B[0;32m    279\u001B[0m         \u001B[1;32massert\u001B[0m \u001B[1;32mnot\u001B[0m \u001B[1;33m(\u001B[0m\u001B[0mnum_epochs\u001B[0m \u001B[1;32mis\u001B[0m \u001B[1;32mNone\u001B[0m \u001B[1;32mand\u001B[0m \u001B[0mnum_steps\u001B[0m \u001B[1;32mis\u001B[0m \u001B[1;32mNone\u001B[0m\u001B[1;33m)\u001B[0m\u001B[1;33m\u001B[0m\u001B[1;33m\u001B[0m\u001B[0m\n\u001B[0;32m    280\u001B[0m         \u001B[1;32mif\u001B[0m \u001B[0mnum_steps\u001B[0m \u001B[1;32mis\u001B[0m \u001B[1;32mnot\u001B[0m \u001B[1;32mNone\u001B[0m\u001B[1;33m:\u001B[0m\u001B[1;33m\u001B[0m\u001B[1;33m\u001B[0m\u001B[0m\n\u001B[1;32m--> 281\u001B[1;33m             \u001B[0mself\u001B[0m\u001B[1;33m.\u001B[0m\u001B[0mtrain_with_num_steps\u001B[0m\u001B[1;33m(\u001B[0m\u001B[0moptimizer\u001B[0m\u001B[1;33m,\u001B[0m \u001B[0mscheduler\u001B[0m\u001B[1;33m,\u001B[0m \u001B[0mtqdm_disable\u001B[0m\u001B[1;33m,\u001B[0m \u001B[0mdataloader\u001B[0m\u001B[1;33m,\u001B[0m \u001B[0mmax_grad_norm\u001B[0m\u001B[1;33m,\u001B[0m \u001B[0mnum_steps\u001B[0m\u001B[1;33m,\u001B[0m \u001B[0mcallback\u001B[0m\u001B[1;33m,\u001B[0m \u001B[0mbatch_postprocessor\u001B[0m\u001B[1;33m,\u001B[0m \u001B[1;33m**\u001B[0m\u001B[0margs\u001B[0m\u001B[1;33m)\u001B[0m\u001B[1;33m\u001B[0m\u001B[1;33m\u001B[0m\u001B[0m\n\u001B[0m\u001B[0;32m    282\u001B[0m         \u001B[1;32melse\u001B[0m\u001B[1;33m:\u001B[0m\u001B[1;33m\u001B[0m\u001B[1;33m\u001B[0m\u001B[0m\n\u001B[0;32m    283\u001B[0m             \u001B[0mself\u001B[0m\u001B[1;33m.\u001B[0m\u001B[0mtrain_with_num_epochs\u001B[0m\u001B[1;33m(\u001B[0m\u001B[0moptimizer\u001B[0m\u001B[1;33m,\u001B[0m \u001B[0mscheduler\u001B[0m\u001B[1;33m,\u001B[0m \u001B[0mtqdm_disable\u001B[0m\u001B[1;33m,\u001B[0m \u001B[0mdataloader\u001B[0m\u001B[1;33m,\u001B[0m \u001B[0mmax_grad_norm\u001B[0m\u001B[1;33m,\u001B[0m \u001B[0mnum_epochs\u001B[0m\u001B[1;33m,\u001B[0m \u001B[0mcallback\u001B[0m\u001B[1;33m,\u001B[0m \u001B[0mbatch_postprocessor\u001B[0m\u001B[1;33m,\u001B[0m \u001B[1;33m**\u001B[0m\u001B[0margs\u001B[0m\u001B[1;33m)\u001B[0m\u001B[1;33m\u001B[0m\u001B[1;33m\u001B[0m\u001B[0m\n",
      "\u001B[1;32mD:\\Anaconda\\envs\\torch18py37\\lib\\site-packages\\textbrewer\\distiller_basic.py\u001B[0m in \u001B[0;36mtrain_with_num_steps\u001B[1;34m(self, optimizer, scheduler, tqdm_disable, dataloader, max_grad_norm, num_steps, callback, batch_postprocessor, **args)\u001B[0m\n\u001B[0;32m    139\u001B[0m             \u001B[1;32mif\u001B[0m \u001B[0mbatch_postprocessor\u001B[0m \u001B[1;32mis\u001B[0m \u001B[1;32mnot\u001B[0m \u001B[1;32mNone\u001B[0m\u001B[1;33m:\u001B[0m\u001B[1;33m\u001B[0m\u001B[1;33m\u001B[0m\u001B[0m\n\u001B[0;32m    140\u001B[0m                 \u001B[0mbatch\u001B[0m \u001B[1;33m=\u001B[0m \u001B[0mbatch_postprocessor\u001B[0m\u001B[1;33m(\u001B[0m\u001B[0mbatch\u001B[0m\u001B[1;33m)\u001B[0m\u001B[1;33m\u001B[0m\u001B[1;33m\u001B[0m\u001B[0m\n\u001B[1;32m--> 141\u001B[1;33m             \u001B[0mtotal_loss\u001B[0m\u001B[1;33m,\u001B[0m \u001B[0mlosses_dict\u001B[0m \u001B[1;33m=\u001B[0m \u001B[0mself\u001B[0m\u001B[1;33m.\u001B[0m\u001B[0mtrain_on_batch\u001B[0m\u001B[1;33m(\u001B[0m\u001B[0mbatch\u001B[0m\u001B[1;33m,\u001B[0m\u001B[0margs\u001B[0m\u001B[1;33m)\u001B[0m\u001B[1;33m\u001B[0m\u001B[1;33m\u001B[0m\u001B[0m\n\u001B[0m\u001B[0;32m    142\u001B[0m \u001B[1;33m\u001B[0m\u001B[0m\n\u001B[0;32m    143\u001B[0m             \u001B[0mself\u001B[0m\u001B[1;33m.\u001B[0m\u001B[0mwrite_loss\u001B[0m\u001B[1;33m(\u001B[0m\u001B[0mtotal_loss\u001B[0m\u001B[1;33m,\u001B[0m \u001B[0mwriter_step\u001B[0m\u001B[1;33m,\u001B[0m \u001B[0mlosses_dict\u001B[0m\u001B[1;33m)\u001B[0m\u001B[1;33m\u001B[0m\u001B[1;33m\u001B[0m\u001B[0m\n",
      "\u001B[1;32mD:\\Anaconda\\envs\\torch18py37\\lib\\site-packages\\textbrewer\\distiller_general.py\u001B[0m in \u001B[0;36mtrain_on_batch\u001B[1;34m(self, batch, args)\u001B[0m\n\u001B[0;32m     74\u001B[0m         \u001B[1;33m(\u001B[0m\u001B[0mteacher_batch\u001B[0m\u001B[1;33m,\u001B[0m \u001B[0mresults_T\u001B[0m\u001B[1;33m)\u001B[0m\u001B[1;33m,\u001B[0m \u001B[1;33m(\u001B[0m\u001B[0mstudent_batch\u001B[0m\u001B[1;33m,\u001B[0m \u001B[0mresults_S\u001B[0m\u001B[1;33m)\u001B[0m \u001B[1;33m=\u001B[0m \u001B[0mget_outputs_from_batch\u001B[0m\u001B[1;33m(\u001B[0m\u001B[0mbatch\u001B[0m\u001B[1;33m,\u001B[0m \u001B[0mself\u001B[0m\u001B[1;33m.\u001B[0m\u001B[0mt_config\u001B[0m\u001B[1;33m.\u001B[0m\u001B[0mdevice\u001B[0m\u001B[1;33m,\u001B[0m \u001B[0mself\u001B[0m\u001B[1;33m.\u001B[0m\u001B[0mmodel_T\u001B[0m\u001B[1;33m,\u001B[0m \u001B[0mself\u001B[0m\u001B[1;33m.\u001B[0m\u001B[0mmodel_S\u001B[0m\u001B[1;33m,\u001B[0m \u001B[0margs\u001B[0m\u001B[1;33m)\u001B[0m\u001B[1;33m\u001B[0m\u001B[1;33m\u001B[0m\u001B[0m\n\u001B[0;32m     75\u001B[0m \u001B[1;33m\u001B[0m\u001B[0m\n\u001B[1;32m---> 76\u001B[1;33m         \u001B[0mresults_T\u001B[0m \u001B[1;33m=\u001B[0m \u001B[0mpost_adaptor\u001B[0m\u001B[1;33m(\u001B[0m\u001B[0mself\u001B[0m\u001B[1;33m.\u001B[0m\u001B[0madaptor_T\u001B[0m\u001B[1;33m(\u001B[0m\u001B[0mteacher_batch\u001B[0m\u001B[1;33m,\u001B[0m\u001B[0mresults_T\u001B[0m\u001B[1;33m)\u001B[0m\u001B[1;33m)\u001B[0m\u001B[1;33m\u001B[0m\u001B[1;33m\u001B[0m\u001B[0m\n\u001B[0m\u001B[0;32m     77\u001B[0m         \u001B[0mresults_S\u001B[0m \u001B[1;33m=\u001B[0m \u001B[0mpost_adaptor\u001B[0m\u001B[1;33m(\u001B[0m\u001B[0mself\u001B[0m\u001B[1;33m.\u001B[0m\u001B[0madaptor_S\u001B[0m\u001B[1;33m(\u001B[0m\u001B[0mstudent_batch\u001B[0m\u001B[1;33m,\u001B[0m\u001B[0mresults_S\u001B[0m\u001B[1;33m)\u001B[0m\u001B[1;33m)\u001B[0m\u001B[1;33m\u001B[0m\u001B[1;33m\u001B[0m\u001B[0m\n\u001B[0;32m     78\u001B[0m \u001B[1;33m\u001B[0m\u001B[0m\n",
      "\u001B[1;32m~\\AppData\\Local\\Temp\\ipykernel_20256\\1212047637.py\u001B[0m in \u001B[0;36msimple_adaptor\u001B[1;34m(batch, model_outputs)\u001B[0m\n\u001B[0;32m      2\u001B[0m     \u001B[1;31m# The second element of model_outputs is the logits before softmax\u001B[0m\u001B[1;33m\u001B[0m\u001B[1;33m\u001B[0m\u001B[1;33m\u001B[0m\u001B[0m\n\u001B[0;32m      3\u001B[0m     \u001B[1;31m# The third element of model_outputs is hidden states\u001B[0m\u001B[1;33m\u001B[0m\u001B[1;33m\u001B[0m\u001B[1;33m\u001B[0m\u001B[0m\n\u001B[1;32m----> 4\u001B[1;33m     return {'logits': model_outputs[2],\n\u001B[0m\u001B[0;32m      5\u001B[0m             \u001B[1;34m'hidden'\u001B[0m\u001B[1;33m:\u001B[0m \u001B[0mmodel_outputs\u001B[0m\u001B[1;33m[\u001B[0m\u001B[1;36m3\u001B[0m\u001B[1;33m]\u001B[0m\u001B[1;33m[\u001B[0m\u001B[1;36m3\u001B[0m\u001B[1;33m]\u001B[0m\u001B[1;33m,\u001B[0m\u001B[1;33m\u001B[0m\u001B[1;33m\u001B[0m\u001B[0m\n\u001B[0;32m      6\u001B[0m             \u001B[1;34m'attention'\u001B[0m\u001B[1;33m:\u001B[0m \u001B[0mmodel_outputs\u001B[0m\u001B[1;33m[\u001B[0m\u001B[1;36m3\u001B[0m\u001B[1;33m]\u001B[0m\u001B[1;33m[\u001B[0m\u001B[1;36m4\u001B[0m\u001B[1;33m]\u001B[0m\u001B[1;33m,\u001B[0m\u001B[1;33m\u001B[0m\u001B[1;33m\u001B[0m\u001B[0m\n",
      "\u001B[1;32m~\\AppData\\Local\\Temp\\ipykernel_20256\\1212047637.py\u001B[0m in \u001B[0;36msimple_adaptor\u001B[1;34m(batch, model_outputs)\u001B[0m\n\u001B[0;32m      2\u001B[0m     \u001B[1;31m# The second element of model_outputs is the logits before softmax\u001B[0m\u001B[1;33m\u001B[0m\u001B[1;33m\u001B[0m\u001B[1;33m\u001B[0m\u001B[0m\n\u001B[0;32m      3\u001B[0m     \u001B[1;31m# The third element of model_outputs is hidden states\u001B[0m\u001B[1;33m\u001B[0m\u001B[1;33m\u001B[0m\u001B[1;33m\u001B[0m\u001B[0m\n\u001B[1;32m----> 4\u001B[1;33m     return {'logits': model_outputs[2],\n\u001B[0m\u001B[0;32m      5\u001B[0m             \u001B[1;34m'hidden'\u001B[0m\u001B[1;33m:\u001B[0m \u001B[0mmodel_outputs\u001B[0m\u001B[1;33m[\u001B[0m\u001B[1;36m3\u001B[0m\u001B[1;33m]\u001B[0m\u001B[1;33m[\u001B[0m\u001B[1;36m3\u001B[0m\u001B[1;33m]\u001B[0m\u001B[1;33m,\u001B[0m\u001B[1;33m\u001B[0m\u001B[1;33m\u001B[0m\u001B[0m\n\u001B[0;32m      6\u001B[0m             \u001B[1;34m'attention'\u001B[0m\u001B[1;33m:\u001B[0m \u001B[0mmodel_outputs\u001B[0m\u001B[1;33m[\u001B[0m\u001B[1;36m3\u001B[0m\u001B[1;33m]\u001B[0m\u001B[1;33m[\u001B[0m\u001B[1;36m4\u001B[0m\u001B[1;33m]\u001B[0m\u001B[1;33m,\u001B[0m\u001B[1;33m\u001B[0m\u001B[1;33m\u001B[0m\u001B[0m\n",
      "\u001B[1;32m_pydevd_bundle\\pydevd_cython_win32_37_64.pyx\u001B[0m in \u001B[0;36m_pydevd_bundle.pydevd_cython_win32_37_64.SafeCallWrapper.__call__\u001B[1;34m()\u001B[0m\n",
      "\u001B[1;32m_pydevd_bundle\\pydevd_cython_win32_37_64.pyx\u001B[0m in \u001B[0;36m_pydevd_bundle.pydevd_cython_win32_37_64.PyDBFrame.trace_dispatch\u001B[1;34m()\u001B[0m\n",
      "\u001B[1;32m_pydevd_bundle\\pydevd_cython_win32_37_64.pyx\u001B[0m in \u001B[0;36m_pydevd_bundle.pydevd_cython_win32_37_64.PyDBFrame.trace_dispatch\u001B[1;34m()\u001B[0m\n",
      "\u001B[1;32m_pydevd_bundle\\pydevd_cython_win32_37_64.pyx\u001B[0m in \u001B[0;36m_pydevd_bundle.pydevd_cython_win32_37_64.PyDBFrame.trace_dispatch\u001B[1;34m()\u001B[0m\n",
      "\u001B[1;32m_pydevd_bundle\\pydevd_cython_win32_37_64.pyx\u001B[0m in \u001B[0;36m_pydevd_bundle.pydevd_cython_win32_37_64.PyDBFrame.do_wait_suspend\u001B[1;34m()\u001B[0m\n",
      "\u001B[1;32mD:\\PyCharm 2022.1.1\\plugins\\python\\helpers\\pydev\\pydevd.py\u001B[0m in \u001B[0;36mdo_wait_suspend\u001B[1;34m(self, thread, frame, event, arg, send_suspend_message, is_unhandled_exception)\u001B[0m\n\u001B[0;32m   1153\u001B[0m \u001B[1;33m\u001B[0m\u001B[0m\n\u001B[0;32m   1154\u001B[0m         \u001B[1;32mwith\u001B[0m \u001B[0mself\u001B[0m\u001B[1;33m.\u001B[0m\u001B[0m_threads_suspended_single_notification\u001B[0m\u001B[1;33m.\u001B[0m\u001B[0mnotify_thread_suspended\u001B[0m\u001B[1;33m(\u001B[0m\u001B[0mthread_id\u001B[0m\u001B[1;33m,\u001B[0m \u001B[0mstop_reason\u001B[0m\u001B[1;33m)\u001B[0m\u001B[1;33m:\u001B[0m\u001B[1;33m\u001B[0m\u001B[1;33m\u001B[0m\u001B[0m\n\u001B[1;32m-> 1155\u001B[1;33m             \u001B[0mself\u001B[0m\u001B[1;33m.\u001B[0m\u001B[0m_do_wait_suspend\u001B[0m\u001B[1;33m(\u001B[0m\u001B[0mthread\u001B[0m\u001B[1;33m,\u001B[0m \u001B[0mframe\u001B[0m\u001B[1;33m,\u001B[0m \u001B[0mevent\u001B[0m\u001B[1;33m,\u001B[0m \u001B[0marg\u001B[0m\u001B[1;33m,\u001B[0m \u001B[0msuspend_type\u001B[0m\u001B[1;33m,\u001B[0m \u001B[0mfrom_this_thread\u001B[0m\u001B[1;33m)\u001B[0m\u001B[1;33m\u001B[0m\u001B[1;33m\u001B[0m\u001B[0m\n\u001B[0m\u001B[0;32m   1156\u001B[0m \u001B[1;33m\u001B[0m\u001B[0m\n\u001B[0;32m   1157\u001B[0m     \u001B[1;32mdef\u001B[0m \u001B[0m_do_wait_suspend\u001B[0m\u001B[1;33m(\u001B[0m\u001B[0mself\u001B[0m\u001B[1;33m,\u001B[0m \u001B[0mthread\u001B[0m\u001B[1;33m,\u001B[0m \u001B[0mframe\u001B[0m\u001B[1;33m,\u001B[0m \u001B[0mevent\u001B[0m\u001B[1;33m,\u001B[0m \u001B[0marg\u001B[0m\u001B[1;33m,\u001B[0m \u001B[0msuspend_type\u001B[0m\u001B[1;33m,\u001B[0m \u001B[0mfrom_this_thread\u001B[0m\u001B[1;33m)\u001B[0m\u001B[1;33m:\u001B[0m\u001B[1;33m\u001B[0m\u001B[1;33m\u001B[0m\u001B[0m\n",
      "\u001B[1;32mD:\\PyCharm 2022.1.1\\plugins\\python\\helpers\\pydev\\pydevd.py\u001B[0m in \u001B[0;36m_do_wait_suspend\u001B[1;34m(self, thread, frame, event, arg, suspend_type, from_this_thread)\u001B[0m\n\u001B[0;32m   1168\u001B[0m \u001B[1;33m\u001B[0m\u001B[0m\n\u001B[0;32m   1169\u001B[0m                 \u001B[0mself\u001B[0m\u001B[1;33m.\u001B[0m\u001B[0mprocess_internal_commands\u001B[0m\u001B[1;33m(\u001B[0m\u001B[1;33m)\u001B[0m\u001B[1;33m\u001B[0m\u001B[1;33m\u001B[0m\u001B[0m\n\u001B[1;32m-> 1170\u001B[1;33m                 \u001B[0mtime\u001B[0m\u001B[1;33m.\u001B[0m\u001B[0msleep\u001B[0m\u001B[1;33m(\u001B[0m\u001B[1;36m0.01\u001B[0m\u001B[1;33m)\u001B[0m\u001B[1;33m\u001B[0m\u001B[1;33m\u001B[0m\u001B[0m\n\u001B[0m\u001B[0;32m   1171\u001B[0m \u001B[1;33m\u001B[0m\u001B[0m\n\u001B[0;32m   1172\u001B[0m         \u001B[0mself\u001B[0m\u001B[1;33m.\u001B[0m\u001B[0mcancel_async_evaluation\u001B[0m\u001B[1;33m(\u001B[0m\u001B[0mget_current_thread_id\u001B[0m\u001B[1;33m(\u001B[0m\u001B[0mthread\u001B[0m\u001B[1;33m)\u001B[0m\u001B[1;33m,\u001B[0m \u001B[0mstr\u001B[0m\u001B[1;33m(\u001B[0m\u001B[0mid\u001B[0m\u001B[1;33m(\u001B[0m\u001B[0mframe\u001B[0m\u001B[1;33m)\u001B[0m\u001B[1;33m)\u001B[0m\u001B[1;33m)\u001B[0m\u001B[1;33m\u001B[0m\u001B[1;33m\u001B[0m\u001B[0m\n",
      "\u001B[1;31mKeyboardInterrupt\u001B[0m: "
     ]
    }
   ],
   "source": [
    "def simple_adaptor(batch, model_outputs):\n",
    "    # The second element of model_outputs is the logits before softmax\n",
    "    # The third element of model_outputs is hidden states\n",
    "    return {'logits': model_outputs[2],\n",
    "            'hidden': model_outputs[3].hidden_states,\n",
    "            'attention': model_outputs[3].attentions,\n",
    "            'inputs_mask': batch[2]}\n",
    "\n",
    "\n",
    "distiller = GeneralDistiller(\n",
    "    train_config=train_config, distill_config=distill_config,\n",
    "    model_T=teacher_model, model_S=student_model,\n",
    "    adaptor_T=simple_adaptor, adaptor_S=simple_adaptor)\n",
    "\n",
    "scheduler_class = ReduceLROnPlateau(optimizer, mode='max', factor=0.5, min_lr=1e-7, patience=5, verbose=True,\n",
    "                                    threshold=0.0001, eps=1e-08)\n",
    "\n",
    "scheduler_args = {\n",
    "    'mode': 'max', \"factor\": 0.5, \"min_lr\": 1e-7, \"patience\": 5, \"verbose\": True,\n",
    "    'threshold': 0.0001, 'eps': 1e-08\n",
    "}\n",
    "\n",
    "# Start distilling\n",
    "with distiller:\n",
    "    distiller.train(optimizer, train_loader, num_steps=5000,\n",
    "                    scheduler_class=ReduceLROnPlateau, scheduler_args=scheduler_args, callback=callback_fun)"
   ],
   "metadata": {
    "collapsed": false,
    "pycharm": {
     "name": "#%%\n"
    }
   }
  },
  {
   "cell_type": "code",
   "execution_count": null,
   "metadata": {
    "pycharm": {
     "name": "#%%\n"
    }
   },
   "outputs": [],
   "source": []
  }
 ],
 "metadata": {
  "kernelspec": {
   "display_name": "Python 3 (ipykernel)",
   "language": "python",
   "name": "python3"
  },
  "language_info": {
   "codemirror_mode": {
    "name": "ipython",
    "version": 3
   },
   "file_extension": ".py",
   "mimetype": "text/x-python",
   "name": "python",
   "nbconvert_exporter": "python",
   "pygments_lexer": "ipython3",
   "version": "3.7.13"
  }
 },
 "nbformat": 4,
 "nbformat_minor": 1
}