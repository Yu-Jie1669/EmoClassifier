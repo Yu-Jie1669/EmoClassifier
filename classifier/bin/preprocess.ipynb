{
 "cells": [
  {
   "cell_type": "markdown",
   "source": [
    "# 预处理和划分数据集"
   ],
   "metadata": {
    "collapsed": false,
    "pycharm": {
     "name": "#%% md\n"
    }
   }
  },
  {
   "cell_type": "code",
   "execution_count": 23,
   "metadata": {
    "collapsed": true,
    "pycharm": {
     "name": "#%%\n"
    }
   },
   "outputs": [],
   "source": [
    "import chardet\n",
    "#coding=utf-8\n",
    "import numpy as np\n",
    "\n",
    "import pandas as pd\n",
    "\n",
    "\n",
    "# 获取文件编码类型\n",
    "def get_encoding(file):\n",
    "    # 二进制方式读取，获取字节数据，检测类型\n",
    "    with open(file, 'rb') as f:\n",
    "        return chardet.detect(f.read())['encoding']\n",
    "\n",
    "\n",
    "def get_df(data_path):\n",
    "    # encoding = get_encoding(data_path)\n",
    "    # print(encoding)\n",
    "    encoding = \"GB2312\"\n",
    "    f = open(data_path, encoding=encoding, errors='ignore')\n",
    "    data = pd.read_csv(f)\n",
    "    return data\n",
    "\n",
    "\n",
    "label_data = get_df(\"../../data/nCoV_100k_train.labled.csv\")\n",
    "unlabel_data = get_df(\"../../data/nCoV_900k_train.unlabled.csv\")\n",
    "\n",
    "label_data = label_data[['微博中文内容', '情感倾向']]\n",
    "unlabel_data = unlabel_data[['微博中文内容']]"
   ]
  },
  {
   "cell_type": "code",
   "execution_count": 24,
   "metadata": {
    "pycharm": {
     "name": "#%%\n"
    }
   },
   "outputs": [],
   "source": [
    "import re\n",
    "\n",
    "\n",
    "def remove_useless(text):\n",
    "    # 去掉转发对象 回复对象 超话\n",
    "    rule1 = re.compile(\"//@.*:|回复@.*:|//////.*:|//:\")\n",
    "    # 去掉?展开全文c O网页链接 ...\n",
    "    rule2 = re.compile(\"\\?展开全文c|O网页链接\\?*|原标题：|转发微博|网易链接|查看图片\")\n",
    "    # 去掉 无意义符号\n",
    "    rule3 = re.compile(\"[#【】/-]\")\n",
    "    text = rule1.sub(\" \", text)\n",
    "    text = rule2.sub(\" \", text)\n",
    "    text = rule3.sub(\" \", text)\n",
    "    text = text.strip()\n",
    "    return text\n",
    "\n",
    "\n",
    "label_data['微博中文内容'] = label_data.apply(lambda x: remove_useless(str(x['微博中文内容'])), axis=1)\n",
    "unlabel_data['微博中文内容'] = unlabel_data.apply(lambda x: remove_useless(str(x['微博中文内容'])), axis=1)\n",
    "\n"
   ]
  },
  {
   "cell_type": "code",
   "execution_count": 26,
   "metadata": {
    "pycharm": {
     "name": "#%%\n"
    }
   },
   "outputs": [
    {
     "data": {
      "text/html": [
       "<div>\n",
       "<style scoped>\n",
       "    .dataframe tbody tr th:only-of-type {\n",
       "        vertical-align: middle;\n",
       "    }\n",
       "\n",
       "    .dataframe tbody tr th {\n",
       "        vertical-align: top;\n",
       "    }\n",
       "\n",
       "    .dataframe thead th {\n",
       "        text-align: right;\n",
       "    }\n",
       "</style>\n",
       "<table border=\"1\" class=\"dataframe\">\n",
       "  <thead>\n",
       "    <tr style=\"text-align: right;\">\n",
       "      <th></th>\n",
       "      <th>微博中文内容</th>\n",
       "    </tr>\n",
       "    <tr>\n",
       "      <th>情感倾向</th>\n",
       "      <th></th>\n",
       "    </tr>\n",
       "  </thead>\n",
       "  <tbody>\n",
       "    <tr>\n",
       "      <th>-1</th>\n",
       "      <td>15655</td>\n",
       "    </tr>\n",
       "    <tr>\n",
       "      <th>0</th>\n",
       "      <td>49368</td>\n",
       "    </tr>\n",
       "    <tr>\n",
       "      <th>1</th>\n",
       "      <td>21782</td>\n",
       "    </tr>\n",
       "  </tbody>\n",
       "</table>\n",
       "</div>"
      ],
      "text/plain": [
       "      微博中文内容\n",
       "情感倾向        \n",
       "-1     15655\n",
       "0      49368\n",
       "1      21782"
      ]
     },
     "execution_count": 26,
     "metadata": {},
     "output_type": "execute_result"
    }
   ],
   "source": [
    "# 去除情感倾向不在[-1,0,1]的\n",
    "label_data = label_data[label_data['情感倾向'].astype('str').isin([\"-1\", \"0\", \"1\"])]\n",
    "\n",
    "# 删除重复值\n",
    "label_data.drop_duplicates(subset=['微博中文内容'], keep='first', inplace=True)\n",
    "unlabel_data.drop_duplicates(subset=['微博中文内容'], keep='first', inplace=True)\n",
    "\n",
    "import numpy as np\n",
    "\n",
    "\n",
    "# 删除空值\n",
    "def replace_to_nan(text: str):\n",
    "    if text.isspace():\n",
    "        return np.nan\n",
    "    return text\n",
    "\n",
    "\n",
    "label_data['微博中文内容'] = label_data.apply(lambda x: replace_to_nan(str(x['微博中文内容'])), axis=1)\n",
    "unlabel_data['微博中文内容'] = unlabel_data.apply(lambda x: replace_to_nan(str(x['微博中文内容'])), axis=1)\n",
    "\n",
    "label_data.dropna(axis=0, inplace=True)\n",
    "unlabel_data.dropna(axis=0, inplace=True)\n",
    "\n",
    "label_data.groupby(['情感倾向']).count()\n"
   ]
  },
  {
   "cell_type": "code",
   "execution_count": 29,
   "metadata": {
    "pycharm": {
     "name": "#%%\n"
    }
   },
   "outputs": [],
   "source": [
    "label_data.to_csv(\"../../data/post_process/train_labeled.csv\", index=False)\n",
    "unlabel_data.to_csv(\"../../data/post_process/train_unlabeled.csv\", index=False)"
   ]
  },
  {
   "cell_type": "code",
   "execution_count": 38,
   "metadata": {
    "pycharm": {
     "name": "#%%\n"
    }
   },
   "outputs": [],
   "source": [
    "from torch.utils.data import Dataset, random_split\n",
    "\n",
    "\n",
    "class MyDataSet(Dataset):\n",
    "    def __init__(self, loaded_data):\n",
    "        self.data = loaded_data\n",
    "\n",
    "    def __len__(self):\n",
    "        return len(self.data)\n",
    "\n",
    "    def __getitem__(self, idx):\n",
    "        return self.data[idx]\n",
    "\n",
    "\n",
    "label_data.reset_index(drop=True, inplace=True)\n",
    "custom_dataset = MyDataSet(label_data)\n",
    "# 按照比例划分\n",
    "train_size = int(len(custom_dataset) * 0.8)\n",
    "validate_size = int(len(custom_dataset) * 0.2)\n",
    "train_dataset, validate_dataset = random_split(\n",
    "    custom_dataset, [train_size, validate_size])\n",
    "\n",
    "# 设置保存路径\n",
    "train_data_path = \"../../data/input/train.csv\"\n",
    "dev_data_path = \"../../data/input/dev.csv\"\n",
    "\n",
    "train = train_dataset.dataset.data.loc[train_dataset.indices]\n",
    "dev = validate_dataset.dataset.data.loc[validate_dataset.indices]\n",
    "\n",
    "train_dataset.dataset.data.loc[train_dataset.indices].to_csv(train_data_path, index=False, header=True,\n",
    "                                                             encoding=\"GB2312\")\n",
    "validate_dataset.dataset.data.loc[validate_dataset.indices].to_csv(dev_data_path, index=False, header=True,\n",
    "                                                                   encoding=\"GB2312\")"
   ]
  },
  {
   "cell_type": "markdown",
   "source": [
    "# 数据集简单分析"
   ],
   "metadata": {
    "collapsed": false,
    "pycharm": {
     "name": "#%% md\n"
    }
   }
  },
  {
   "cell_type": "code",
   "execution_count": 7,
   "metadata": {
    "pycharm": {
     "name": "#%%\n"
    }
   },
   "outputs": [],
   "source": [
    "import pandas as pd\n",
    "\n",
    "f=open(\"../../data/post_process/train_labeled.csv\", encoding=\"UTF-8\", errors=\"ignore\")\n",
    "label_data = pd.read_csv(f)\n",
    "\n",
    "f=open(\"../../data/post_process/train_unlabeled.csv\", encoding=\"UTF-8\", errors=\"ignore\")\n",
    "unlabel_data = pd.read_csv(f)\n",
    "\n",
    "\n"
   ]
  },
  {
   "cell_type": "code",
   "execution_count": 8,
   "metadata": {
    "pycharm": {
     "name": "#%%\n"
    }
   },
   "outputs": [
    {
     "data": {
      "text/plain": "      微博中文内容\n情感倾向        \n-1     15655\n 0     49367\n 1     21781",
      "text/html": "<div>\n<style scoped>\n    .dataframe tbody tr th:only-of-type {\n        vertical-align: middle;\n    }\n\n    .dataframe tbody tr th {\n        vertical-align: top;\n    }\n\n    .dataframe thead th {\n        text-align: right;\n    }\n</style>\n<table border=\"1\" class=\"dataframe\">\n  <thead>\n    <tr style=\"text-align: right;\">\n      <th></th>\n      <th>微博中文内容</th>\n    </tr>\n    <tr>\n      <th>情感倾向</th>\n      <th></th>\n    </tr>\n  </thead>\n  <tbody>\n    <tr>\n      <th>-1</th>\n      <td>15655</td>\n    </tr>\n    <tr>\n      <th>0</th>\n      <td>49367</td>\n    </tr>\n    <tr>\n      <th>1</th>\n      <td>21781</td>\n    </tr>\n  </tbody>\n</table>\n</div>"
     },
     "execution_count": 8,
     "metadata": {},
     "output_type": "execute_result"
    }
   ],
   "source": [
    "label_data.groupby(['情感倾向']).count()"
   ]
  },
  {
   "cell_type": "code",
   "execution_count": 25,
   "outputs": [
    {
     "data": {
      "text/plain": "        微博中文内容  情感倾向\n微博中文内容              \n1.0         50    50\n2.0        179   179\n3.0        235   235\n4.0        453   453\n5.0        472   472\n...        ...   ...\n217.0        1     1\n219.0        3     3\n221.0        1     1\n224.0        1     1\n225.0        1     1\n\n[206 rows x 2 columns]",
      "text/html": "<div>\n<style scoped>\n    .dataframe tbody tr th:only-of-type {\n        vertical-align: middle;\n    }\n\n    .dataframe tbody tr th {\n        vertical-align: top;\n    }\n\n    .dataframe thead th {\n        text-align: right;\n    }\n</style>\n<table border=\"1\" class=\"dataframe\">\n  <thead>\n    <tr style=\"text-align: right;\">\n      <th></th>\n      <th>微博中文内容</th>\n      <th>情感倾向</th>\n    </tr>\n    <tr>\n      <th>微博中文内容</th>\n      <th></th>\n      <th></th>\n    </tr>\n  </thead>\n  <tbody>\n    <tr>\n      <th>1.0</th>\n      <td>50</td>\n      <td>50</td>\n    </tr>\n    <tr>\n      <th>2.0</th>\n      <td>179</td>\n      <td>179</td>\n    </tr>\n    <tr>\n      <th>3.0</th>\n      <td>235</td>\n      <td>235</td>\n    </tr>\n    <tr>\n      <th>4.0</th>\n      <td>453</td>\n      <td>453</td>\n    </tr>\n    <tr>\n      <th>5.0</th>\n      <td>472</td>\n      <td>472</td>\n    </tr>\n    <tr>\n      <th>...</th>\n      <td>...</td>\n      <td>...</td>\n    </tr>\n    <tr>\n      <th>217.0</th>\n      <td>1</td>\n      <td>1</td>\n    </tr>\n    <tr>\n      <th>219.0</th>\n      <td>3</td>\n      <td>3</td>\n    </tr>\n    <tr>\n      <th>221.0</th>\n      <td>1</td>\n      <td>1</td>\n    </tr>\n    <tr>\n      <th>224.0</th>\n      <td>1</td>\n      <td>1</td>\n    </tr>\n    <tr>\n      <th>225.0</th>\n      <td>1</td>\n      <td>1</td>\n    </tr>\n  </tbody>\n</table>\n<p>206 rows × 2 columns</p>\n</div>"
     },
     "execution_count": 25,
     "metadata": {},
     "output_type": "execute_result"
    }
   ],
   "source": [
    "label_data.groupby(by=label_data['微博中文内容'].str.len()).count()"
   ],
   "metadata": {
    "collapsed": false,
    "pycharm": {
     "name": "#%%\n"
    }
   }
  },
  {
   "cell_type": "code",
   "execution_count": 21,
   "outputs": [
    {
     "data": {
      "text/plain": "<BarContainer object of 206 artists>"
     },
     "execution_count": 21,
     "metadata": {},
     "output_type": "execute_result"
    },
    {
     "data": {
      "text/plain": "<Figure size 432x288 with 1 Axes>",
      "image/png": "[encoded data removed]"
     },
     "metadata": {
      "needs_background": "light"
     },
     "output_type": "display_data"
    }
   ],
   "source": [
    "label_cnt=label_data.groupby(by=label_data['微博中文内容'].str.len()).count()\n",
    "# max_len=225\n",
    "\n",
    "import matplotlib.pyplot as plt\n",
    "%matplotlib inline\n",
    "\n",
    "x=list(label_cnt.index.astype('int'))\n",
    "y=list(label_cnt['微博中文内容'])\n",
    "plt.bar(x,y)"
   ],
   "metadata": {
    "collapsed": false,
    "pycharm": {
     "name": "#%%\n"
    }
   }
  },
  {
   "cell_type": "code",
   "execution_count": 24,
   "outputs": [
    {
     "data": {
      "text/plain": "        微博中文内容\n微博中文内容        \n1.0        184\n2.0        833\n3.0       1324\n4.0       2667\n5.0       3015\n...        ...\n278.0        1\n280.0        2\n296.0        1\n347.0        1\n1509.0       1\n\n[255 rows x 1 columns]",
      "text/html": "<div>\n<style scoped>\n    .dataframe tbody tr th:only-of-type {\n        vertical-align: middle;\n    }\n\n    .dataframe tbody tr th {\n        vertical-align: top;\n    }\n\n    .dataframe thead th {\n        text-align: right;\n    }\n</style>\n<table border=\"1\" class=\"dataframe\">\n  <thead>\n    <tr style=\"text-align: right;\">\n      <th></th>\n      <th>微博中文内容</th>\n    </tr>\n    <tr>\n      <th>微博中文内容</th>\n      <th></th>\n    </tr>\n  </thead>\n  <tbody>\n    <tr>\n      <th>1.0</th>\n      <td>184</td>\n    </tr>\n    <tr>\n      <th>2.0</th>\n      <td>833</td>\n    </tr>\n    <tr>\n      <th>3.0</th>\n      <td>1324</td>\n    </tr>\n    <tr>\n      <th>4.0</th>\n      <td>2667</td>\n    </tr>\n    <tr>\n      <th>5.0</th>\n      <td>3015</td>\n    </tr>\n    <tr>\n      <th>...</th>\n      <td>...</td>\n    </tr>\n    <tr>\n      <th>278.0</th>\n      <td>1</td>\n    </tr>\n    <tr>\n      <th>280.0</th>\n      <td>2</td>\n    </tr>\n    <tr>\n      <th>296.0</th>\n      <td>1</td>\n    </tr>\n    <tr>\n      <th>347.0</th>\n      <td>1</td>\n    </tr>\n    <tr>\n      <th>1509.0</th>\n      <td>1</td>\n    </tr>\n  </tbody>\n</table>\n<p>255 rows × 1 columns</p>\n</div>"
     },
     "execution_count": 24,
     "metadata": {},
     "output_type": "execute_result"
    }
   ],
   "source": [
    "unlabel_data.groupby(by=unlabel_data['微博中文内容'].str.len()).count()\n",
    "# x=list(unlabel_cnt.index.astype('int'))\n",
    "# y=list(unlabel_cnt['微博中文内容'])\n",
    "# plt.bar(x,y)"
   ],
   "metadata": {
    "collapsed": false,
    "pycharm": {
     "name": "#%%\n"
    }
   }
  },
  {
   "cell_type": "code",
   "execution_count": null,
   "outputs": [],
   "source": [],
   "metadata": {
    "collapsed": false,
    "pycharm": {
     "name": "#%%\n"
    }
   }
  },
  {
   "cell_type": "code",
   "execution_count": 11,
   "outputs": [
    {
     "data": {
      "text/plain": "'2022-07-27 14:38:37'"
     },
     "execution_count": 11,
     "metadata": {},
     "output_type": "execute_result"
    }
   ],
   "source": [
    "import datetime\n",
    "\n",
    "\"{}\".format(datetime.datetime.now().strftime('%Y-%m-%d %H:%M:%S'))"
   ],
   "metadata": {
    "collapsed": false,
    "pycharm": {
     "name": "#%%\n"
    }
   }
  }
 ],
 "metadata": {
  "kernelspec": {
   "display_name": "Python 3 (ipykernel)",
   "language": "python",
   "name": "python3"
  },
  "language_info": {
   "codemirror_mode": {
    "name": "ipython",
    "version": 3
   },
   "file_extension": ".py",
   "mimetype": "text/x-python",
   "name": "python",
   "nbconvert_exporter": "python",
   "pygments_lexer": "ipython3",
   "version": "3.7.13"
  }
 },
 "nbformat": 4,
 "nbformat_minor": 1
}